{
 "cells": [
  {
   "cell_type": "code",
   "execution_count": 6,
   "id": "4a152c48-5440-40dc-a8bb-df6f428c60c1",
   "metadata": {},
   "outputs": [
    {
     "name": "stdout",
     "output_type": "stream",
     "text": [
      "basename: missing operand\n",
      "Try 'basename --help' for more information.\n"
     ]
    }
   ],
   "source": [
    "! basename $VIRTUAL_ENV"
   ]
  },
  {
   "cell_type": "code",
   "execution_count": 2,
   "id": "abfb5fc2-d6c4-4f5d-94f0-76d4014ecdd6",
   "metadata": {},
   "outputs": [
    {
     "name": "stdout",
     "output_type": "stream",
     "text": [
      "/bin/bash: ./grab_sequence.sh: No such file or directory\n"
     ]
    }
   ],
   "source": [
    "! ./grab_sequence.sh"
   ]
  },
  {
   "cell_type": "code",
   "execution_count": 3,
   "id": "ae6f99b9-4ac3-45e2-8ca3-4483401dfb4a",
   "metadata": {},
   "outputs": [
    {
     "name": "stdout",
     "output_type": "stream",
     "text": [
      "python: can't open file 'create_datafile.py': [Errno 2] No such file or directory\n"
     ]
    }
   ],
   "source": [
    "!python create_datafile.py train all"
   ]
  },
  {
   "cell_type": "code",
   "execution_count": null,
   "id": "99fa78b1-3560-4f89-b449-e5a586ee0ebd",
   "metadata": {},
   "outputs": [],
   "source": [
    "!python create_datafile.py test 0"
   ]
  },
  {
   "cell_type": "code",
   "execution_count": null,
   "id": "213551d8-39ee-4cff-92b9-aba4f5a63dbe",
   "metadata": {},
   "outputs": [],
   "source": [
    "!python create_dataset.py train all"
   ]
  },
  {
   "cell_type": "code",
   "execution_count": null,
   "id": "fbcea705-8bb1-4100-a64f-f7e3df3f3560",
   "metadata": {},
   "outputs": [],
   "source": [
    "!python create_dataset.py test 0"
   ]
  },
  {
   "cell_type": "code",
   "execution_count": null,
   "id": "a69c2d0f-7568-4852-975b-2f4681f12b98",
   "metadata": {},
   "outputs": [],
   "source": [
    "!conda info --envs"
   ]
  },
  {
   "cell_type": "code",
   "execution_count": null,
   "id": "ae32024b-af04-44ff-8b1a-3c286a30c2e1",
   "metadata": {
    "jupyter": {
     "source_hidden": true
    },
    "tags": []
   },
   "outputs": [],
   "source": [
    "import os\n",
    "import tensorflow as tf\n",
    "# List all physical devices visible to TensorFlow\n",
    "print(\"TensorFlow version:\", tf.__version__)\n",
    "physical_devices = tf.config.list_physical_devices('GPU')\n",
    "print(\"Physical GPUs:\", len(physical_devices))\n",
    "\n"
   ]
  },
  {
   "cell_type": "code",
   "execution_count": null,
   "id": "bdad52a2-ee89-4a43-80b0-832fdc020733",
   "metadata": {},
   "outputs": [],
   "source": [
    "!./script_train.sh 10000 _k562_annotated_2_"
   ]
  },
  {
   "cell_type": "code",
   "execution_count": null,
   "id": "9f0c613c-28fa-405a-9595-8490bfa0455b",
   "metadata": {},
   "outputs": [],
   "source": [
    "#!./script_train.sh 10000 _k562_norm_annotated_1_"
   ]
  },
  {
   "cell_type": "code",
   "execution_count": null,
   "id": "02b6ca45-87e8-4e76-8558-167c45742011",
   "metadata": {},
   "outputs": [
    {
     "name": "stdout",
     "output_type": "stream",
     "text": [
      "2024-11-15 12:02:46.219814: I tensorflow/core/platform/cpu_feature_guard.cc:193] This TensorFlow binary is optimized with oneAPI Deep Neural Network Library (oneDNN) to use the following CPU instructions in performance-critical operations:  AVX2 FMA\n",
      "To enable them in other operations, rebuild TensorFlow with the appropriate compiler flags.\n",
      "2024-11-15 12:02:47.486112: E tensorflow/stream_executor/cuda/cuda_blas.cc:2981] Unable to register cuBLAS factory: Attempting to register factory for plugin cuBLAS when one has already been registered\n",
      "2024-11-15 12:02:56.479059: W tensorflow/stream_executor/platform/default/dso_loader.cc:64] Could not load dynamic library 'libnvinfer.so.7'; dlerror: libnvinfer.so.7: cannot open shared object file: No such file or directory; LD_LIBRARY_PATH: /shared/centos7/cuda/11.2/lib64:/shared/centos7/anaconda3/2022.01/lib:/home/runyan.m/.conda/envs/tf_env/lib:/shared/centos7/anaconda3/2021.05/lib:/shared/centos7/nodejs/14.15.4/lib\n",
      "2024-11-15 12:02:56.483401: W tensorflow/stream_executor/platform/default/dso_loader.cc:64] Could not load dynamic library 'libnvinfer_plugin.so.7'; dlerror: libnvinfer_plugin.so.7: cannot open shared object file: No such file or directory; LD_LIBRARY_PATH: /shared/centos7/cuda/11.2/lib64:/shared/centos7/anaconda3/2022.01/lib:/home/runyan.m/.conda/envs/tf_env/lib:/shared/centos7/anaconda3/2021.05/lib:/shared/centos7/nodejs/14.15.4/lib\n",
      "2024-11-15 12:02:56.483593: W tensorflow/compiler/tf2tensorrt/utils/py_utils.cc:38] TF-TRT Warning: Cannot dlopen some TensorRT libraries. If you would like to use Nvidia GPU with TensorRT, please make sure the missing libraries mentioned above are installed properly.\n",
      "2024-11-15 12:03:19.965713: I tensorflow/core/platform/cpu_feature_guard.cc:193] This TensorFlow binary is optimized with oneAPI Deep Neural Network Library (oneDNN) to use the following CPU instructions in performance-critical operations:  AVX2 FMA\n",
      "To enable them in other operations, rebuild TensorFlow with the appropriate compiler flags.\n",
      "2024-11-15 12:03:23.574748: I tensorflow/core/common_runtime/gpu/gpu_device.cc:1616] Created device /job:localhost/replica:0/task:0/device:GPU:0 with 30975 MB memory:  -> device: 0, name: Tesla V100-PCIE-32GB, pci bus id: 0000:81:00.0, compute capability: 7.0\n",
      "2024-11-15 12:05:03.132999: I tensorflow/stream_executor/cuda/cuda_dnn.cc:384] Loaded cuDNN version 8100\n",
      "WARNING:tensorflow:Compiled the loaded model, but the compiled metrics have yet to be built. `model.compile_metrics` will be empty until you train or evaluate the model.\n"
     ]
    }
   ],
   "source": [
    "!./script_train.sh 10000 _norm_1_"
   ]
  },
  {
   "cell_type": "code",
   "execution_count": 10,
   "id": "71b8e4ca-f1c6-4251-9239-3532e4613157",
   "metadata": {},
   "outputs": [
    {
     "name": "stdout",
     "output_type": "stream",
     "text": [
      "2024-12-05 14:41:53.764619: I tensorflow/core/platform/cpu_feature_guard.cc:193] This TensorFlow binary is optimized with oneAPI Deep Neural Network Library (oneDNN) to use the following CPU instructions in performance-critical operations:  AVX2 FMA\n",
      "To enable them in other operations, rebuild TensorFlow with the appropriate compiler flags.\n",
      "2024-12-05 14:41:54.008447: E tensorflow/stream_executor/cuda/cuda_blas.cc:2981] Unable to register cuBLAS factory: Attempting to register factory for plugin cuBLAS when one has already been registered\n",
      "2024-12-05 14:42:00.211224: W tensorflow/stream_executor/platform/default/dso_loader.cc:64] Could not load dynamic library 'libnvinfer.so.7'; dlerror: libnvinfer.so.7: cannot open shared object file: No such file or directory; LD_LIBRARY_PATH: /shared/centos7/cuda/11.2/lib64:/shared/centos7/anaconda3/2022.01/lib:/home/runyan.m/.conda/envs/tf_env/lib:/shared/centos7/anaconda3/2021.05/lib:/shared/centos7/nodejs/14.15.4/lib\n",
      "2024-12-05 14:42:00.217289: W tensorflow/stream_executor/platform/default/dso_loader.cc:64] Could not load dynamic library 'libnvinfer_plugin.so.7'; dlerror: libnvinfer_plugin.so.7: cannot open shared object file: No such file or directory; LD_LIBRARY_PATH: /shared/centos7/cuda/11.2/lib64:/shared/centos7/anaconda3/2022.01/lib:/home/runyan.m/.conda/envs/tf_env/lib:/shared/centos7/anaconda3/2021.05/lib:/shared/centos7/nodejs/14.15.4/lib\n",
      "2024-12-05 14:42:00.217367: W tensorflow/compiler/tf2tensorrt/utils/py_utils.cc:38] TF-TRT Warning: Cannot dlopen some TensorRT libraries. If you would like to use Nvidia GPU with TensorRT, please make sure the missing libraries mentioned above are installed properly.\n",
      "2024-12-05 14:42:21.329139: I tensorflow/core/platform/cpu_feature_guard.cc:193] This TensorFlow binary is optimized with oneAPI Deep Neural Network Library (oneDNN) to use the following CPU instructions in performance-critical operations:  AVX2 FMA\n",
      "To enable them in other operations, rebuild TensorFlow with the appropriate compiler flags.\n",
      "2024-12-05 14:42:21.850189: I tensorflow/core/common_runtime/gpu/gpu_device.cc:1616] Created device /job:localhost/replica:0/task:0/device:GPU:0 with 10787 MB memory:  -> device: 0, name: Tesla K80, pci bus id: 0000:05:00.0, compute capability: 3.7\n",
      "WARNING:tensorflow:No training configuration found in the save file, so the model was *not* compiled. Compile it manually.\n",
      "2024-12-05 14:42:25.796522: I tensorflow/stream_executor/cuda/cuda_dnn.cc:384] Loaded cuDNN version 8100\n",
      "Traceback (most recent call last):\n",
      "  File \"test_model.py\", line 121, in <module>\n",
      "    print_topl_statistics(\n",
      "  File \"/work/talisman/mrunyan/splice_me/src/spliceai/utils.py\", line 204, in print_topl_statistics\n",
      "    y_true_subset = y_true[mask]\n",
      "IndexError: boolean index did not match indexed array along dimension 0; dimension is 55800000 but corresponding boolean dimension is 12695\n"
     ]
    }
   ],
   "source": [
    "!./script_test.sh 10000 OG_on_rna"
   ]
  },
  {
   "cell_type": "code",
   "execution_count": null,
   "id": "861ac812-0d65-4a02-b1a5-bd0199f08cbd",
   "metadata": {},
   "outputs": [],
   "source": []
  }
 ],
 "metadata": {
  "kernelspec": {
   "display_name": "Python 3",
   "language": "python",
   "name": "python3"
  },
  "language_info": {
   "codemirror_mode": {
    "name": "ipython",
    "version": 3
   },
   "file_extension": ".py",
   "mimetype": "text/x-python",
   "name": "python",
   "nbconvert_exporter": "python",
   "pygments_lexer": "ipython3",
   "version": "3.8.8"
  }
 },
 "nbformat": 4,
 "nbformat_minor": 5
}
